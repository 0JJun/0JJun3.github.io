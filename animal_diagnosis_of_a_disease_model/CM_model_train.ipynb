{
 "cells": [
  {
   "cell_type": "code",
   "execution_count": 45,
   "id": "cf7aab33",
   "metadata": {
    "scrolled": true
   },
   "outputs": [],
   "source": [
    "import os\n",
    "import cv2\n",
    "import json\n",
    "import tensorflow as tf\n",
    "import numpy as np\n",
    "import matplotlib.pyplot as plt\n",
    "import seaborn as sn\n",
    "import pandas as pd\n",
    "from tensorflow.keras.preprocessing.image import ImageDataGenerator, img_to_array, load_img\n",
    "from tensorflow.keras.utils import to_categorical\n",
    "from sklearn.model_selection import train_test_split\n",
    "from sklearn.metrics import confusion_matrix"
   ]
  },
  {
   "cell_type": "code",
   "execution_count": 46,
   "id": "9949e141",
   "metadata": {},
   "outputs": [],
   "source": [
    "input_shape = (128, 128, 3)"
   ]
  },
  {
   "cell_type": "code",
   "execution_count": 47,
   "id": "85c38fef",
   "metadata": {},
   "outputs": [],
   "source": [
    "data_dir = 'hackaton_dataset'\n",
    "CM_ABN = [f for f in os.listdir(data_dir+'/CM_ABN') if f.endswith('.jpg')]\n",
    "CM_NOR = [f for f in os.listdir(data_dir+'/CM_NOR') if f.endswith('.jpg')]"
   ]
  },
  {
   "cell_type": "code",
   "execution_count": 48,
   "id": "341ba73e",
   "metadata": {},
   "outputs": [],
   "source": [
    "X = []\n",
    "Y = []\n",
    "\n",
    "for img in CM_ABN:\n",
    "    if \"Ab01\" in img:\n",
    "        X.append(img_to_array(load_img(data_dir+'/CM_ABN/'+img)).flatten() / 255.0)\n",
    "        Y.append(1)\n",
    "    elif \"Ab04\" in img:\n",
    "        X.append(img_to_array(load_img(data_dir+'/CM_ABN/'+img)).flatten() / 255.0)\n",
    "        Y.append(2)\n",
    "    elif \"Ch02\" in img:\n",
    "        X.append(img_to_array(load_img(data_dir+'/CM_ABN/'+img)).flatten() / 255.0)\n",
    "        Y.append(3)\n",
    "    elif \"Ch05\" in img:\n",
    "        X.append(img_to_array(load_img(data_dir+'/CM_ABN/'+img)).flatten() / 255.0)\n",
    "        Y.append(4)\n",
    "    elif \"Mu02\" in img:\n",
    "        X.append(img_to_array(load_img(data_dir+'/CM_ABN/'+img)).flatten() / 255.0)\n",
    "        Y.append(5)\n",
    "    elif \"Mu04\" in img:\n",
    "        X.append(img_to_array(load_img(data_dir+'/CM_ABN/'+img)).flatten() / 255.0)\n",
    "        Y.append(6)\n",
    "for img in CM_NOR:\n",
    "    X.append(img_to_array(load_img(data_dir+'/CM_NOR/'+img)).flatten() / 255.0)\n",
    "    Y.append(0)"
   ]
  },
  {
   "cell_type": "code",
   "execution_count": 49,
   "id": "f69cf766",
   "metadata": {},
   "outputs": [
    {
     "name": "stdout",
     "output_type": "stream",
     "text": [
      "(9187, 128, 128, 3)\n",
      "(9187, 7)\n"
     ]
    }
   ],
   "source": [
    "Y_val_org = Y\n",
    "\n",
    "#Normalization\n",
    "X = np.array(X)\n",
    "Y = tf.keras.utils.to_categorical(Y)\n",
    "\n",
    "#Reshape\n",
    "X = X.reshape(-1, 128, 128, 3)\n",
    "\n",
    "#Train-Test split\n",
    "X_train, X_val, Y_train, Y_val = train_test_split(X, Y, test_size = 0.2, random_state=5)\n",
    "print(np.shape(X))\n",
    "print(np.shape(Y))"
   ]
  },
  {
   "cell_type": "code",
   "execution_count": 55,
   "id": "db13e9ef",
   "metadata": {},
   "outputs": [
    {
     "name": "stdout",
     "output_type": "stream",
     "text": [
      "[[0. 1. 0. ... 0. 0. 0.]\n",
      " [0. 1. 0. ... 0. 0. 0.]\n",
      " [0. 1. 0. ... 0. 0. 0.]\n",
      " ...\n",
      " [1. 0. 0. ... 0. 0. 0.]\n",
      " [1. 0. 0. ... 0. 0. 0.]\n",
      " [1. 0. 0. ... 0. 0. 0.]]\n"
     ]
    }
   ],
   "source": [
    "print(Y)"
   ]
  },
  {
   "cell_type": "code",
   "execution_count": 51,
   "id": "da2f23ff",
   "metadata": {},
   "outputs": [
    {
     "name": "stdout",
     "output_type": "stream",
     "text": [
      "Model: \"sequential_5\"\n",
      "_________________________________________________________________\n",
      " Layer (type)                Output Shape              Param #   \n",
      "=================================================================\n",
      " inception_resnet_v2 (Functi  (None, 2, 2, 1536)       54336736  \n",
      " onal)                                                           \n",
      "                                                                 \n",
      " global_average_pooling2d_5   (None, 1536)             0         \n",
      " (GlobalAveragePooling2D)                                        \n",
      "                                                                 \n",
      " dense_5 (Dense)             (None, 7)                 10759     \n",
      "                                                                 \n",
      "=================================================================\n",
      "Total params: 54,347,495\n",
      "Trainable params: 54,286,951\n",
      "Non-trainable params: 60,544\n",
      "_________________________________________________________________\n"
     ]
    }
   ],
   "source": [
    "from tensorflow.keras.applications import InceptionResNetV2\n",
    "from tensorflow.keras.layers import Conv2D\n",
    "from tensorflow.keras.layers import MaxPooling2D\n",
    "from tensorflow.keras.layers import Flatten\n",
    "from tensorflow.keras.layers import Dense\n",
    "from tensorflow.keras.layers import Dropout\n",
    "from tensorflow.keras.layers import InputLayer\n",
    "from tensorflow.keras.layers import GlobalAveragePooling2D\n",
    "from tensorflow.keras.models import Sequential\n",
    "from tensorflow.keras.models import Model\n",
    "from tensorflow.keras import optimizers\n",
    "from tensorflow.keras.callbacks import ReduceLROnPlateau, EarlyStopping\n",
    "\n",
    "googleNet_model = InceptionResNetV2(include_top=False, weights='imagenet', input_shape=input_shape)\n",
    "googleNet_model.trainable = True\n",
    "model = Sequential()\n",
    "model.add(googleNet_model)\n",
    "model.add(GlobalAveragePooling2D())\n",
    "model.add(Dense(units=7, activation='softmax'))\n",
    "model.compile(loss='cross_crossentropy',\n",
    "              optimizer=optimizers.Adam(learning_rate=1e-5, beta_1=0.9, beta_2=0.999, epsilon=None, decay=0.0, amsgrad=False),\n",
    "              metrics=['accuracy'])\n",
    "model.summary()"
   ]
  },
  {
   "cell_type": "code",
   "execution_count": 52,
   "id": "432cd4b3",
   "metadata": {
    "scrolled": false
   },
   "outputs": [
    {
     "name": "stdout",
     "output_type": "stream",
     "text": [
      "Epoch 1/20\n",
      "74/74 [==============================] - 1972s 26s/step - loss: 0.5933 - accuracy: 0.3832 - val_loss: 0.4917 - val_accuracy: 0.6153\n",
      "Epoch 2/20\n",
      "74/74 [==============================] - 1558s 21s/step - loss: 0.3983 - accuracy: 0.8130 - val_loss: 0.4819 - val_accuracy: 0.6676\n",
      "Epoch 3/20\n",
      "74/74 [==============================] - 1477s 20s/step - loss: 0.2310 - accuracy: 0.9015 - val_loss: 0.2921 - val_accuracy: 0.9004\n",
      "Epoch 4/20\n",
      "74/74 [==============================] - 1442s 19s/step - loss: 0.1382 - accuracy: 0.9117 - val_loss: 0.1564 - val_accuracy: 0.9189\n",
      "Epoch 5/20\n",
      "74/74 [==============================] - 1845s 25s/step - loss: 0.1053 - accuracy: 0.9126 - val_loss: 0.1114 - val_accuracy: 0.9195\n",
      "Epoch 6/20\n",
      "74/74 [==============================] - 1707s 23s/step - loss: 0.0921 - accuracy: 0.9143 - val_loss: 0.0975 - val_accuracy: 0.9200\n",
      "Epoch 7/20\n",
      "74/74 [==============================] - 1581s 21s/step - loss: 0.0817 - accuracy: 0.9182 - val_loss: 0.0923 - val_accuracy: 0.9200\n",
      "Epoch 8/20\n",
      "74/74 [==============================] - 1745s 24s/step - loss: 0.0722 - accuracy: 0.9294 - val_loss: 0.0886 - val_accuracy: 0.9206\n",
      "Epoch 9/20\n",
      "74/74 [==============================] - 1429s 19s/step - loss: 0.0630 - accuracy: 0.9386 - val_loss: 0.0889 - val_accuracy: 0.9189\n",
      "Epoch 10/20\n",
      "74/74 [==============================] - 1530s 21s/step - loss: 0.0546 - accuracy: 0.9521 - val_loss: 0.0919 - val_accuracy: 0.9184\n",
      "Epoch 11/20\n",
      "74/74 [==============================] - 3736s 51s/step - loss: 0.0490 - accuracy: 0.9584 - val_loss: 0.0899 - val_accuracy: 0.9200\n",
      "Epoch 12/20\n",
      "74/74 [==============================] - 5921s 80s/step - loss: 0.0439 - accuracy: 0.9663 - val_loss: 0.0914 - val_accuracy: 0.9195\n",
      "Epoch 13/20\n",
      "74/74 [==============================] - 4585s 62s/step - loss: 0.0412 - accuracy: 0.9661 - val_loss: 0.0906 - val_accuracy: 0.9189\n",
      "Epoch 14/20\n",
      "74/74 [==============================] - 4469s 60s/step - loss: 0.0376 - accuracy: 0.9703 - val_loss: 0.0890 - val_accuracy: 0.9178\n",
      "Epoch 15/20\n",
      "74/74 [==============================] - 4368s 59s/step - loss: 0.0351 - accuracy: 0.9737 - val_loss: 0.0940 - val_accuracy: 0.9162\n",
      "Epoch 16/20\n",
      "74/74 [==============================] - 5178s 70s/step - loss: 0.0320 - accuracy: 0.9761 - val_loss: 0.0964 - val_accuracy: 0.9168\n",
      "Epoch 17/20\n",
      "74/74 [==============================] - 4686s 63s/step - loss: 0.0295 - accuracy: 0.9777 - val_loss: 0.0970 - val_accuracy: 0.9157\n",
      "Epoch 18/20\n",
      "74/74 [==============================] - 4418s 60s/step - loss: 0.0274 - accuracy: 0.9782 - val_loss: 0.0976 - val_accuracy: 0.9124\n",
      "Epoch 19/20\n",
      "74/74 [==============================] - 4316s 58s/step - loss: 0.0249 - accuracy: 0.9803 - val_loss: 0.0979 - val_accuracy: 0.9140\n",
      "Epoch 20/20\n",
      "74/74 [==============================] - 4380s 59s/step - loss: 0.0237 - accuracy: 0.9801 - val_loss: 0.0985 - val_accuracy: 0.9151\n"
     ]
    }
   ],
   "source": [
    "#Currently not used\n",
    "early_stopping = EarlyStopping(monitor='val_loss',\n",
    "                               min_delta=0,\n",
    "                               patience=2,\n",
    "                               verbose=0, mode='auto')\n",
    "EPOCHS = 20\n",
    "BATCH_SIZE = 100\n",
    "history = model.fit(X_train, Y_train, batch_size = BATCH_SIZE, epochs = EPOCHS, validation_data = (X_val, Y_val), verbose = 1)"
   ]
  },
  {
   "cell_type": "code",
   "execution_count": 53,
   "id": "5bcd30f9",
   "metadata": {},
   "outputs": [
    {
     "data": {
      "image/png": "[encoded data removed]",
      "text/plain": [
       "<Figure size 1440x288 with 2 Axes>"
      ]
     },
     "metadata": {
      "needs_background": "light"
     },
     "output_type": "display_data"
    }
   ],
   "source": [
    "f, (ax1, ax2) = plt.subplots(1, 2, figsize=(20, 4))\n",
    "t = f.suptitle('Pre-trained InceptionResNetV2 Transfer Learn with Fine-Tuning & Image Augmentation Performance ', fontsize=12)\n",
    "f.subplots_adjust(top=0.85, wspace=0.3)\n",
    "\n",
    "epoch_list = list(range(1,EPOCHS+1))\n",
    "ax1.plot(epoch_list, history.history['accuracy'], label='Train Accuracy')\n",
    "ax1.plot(epoch_list, history.history['val_accuracy'], label='Validation Accuracy')\n",
    "ax1.set_xticks(np.arange(0, EPOCHS+1, 1))\n",
    "ax1.set_ylabel('Accuracy Value')\n",
    "ax1.set_xlabel('Epoch #')\n",
    "ax1.set_title('Accuracy')\n",
    "l1 = ax1.legend(loc=\"best\")\n",
    "\n",
    "ax2.plot(epoch_list, history.history['loss'], label='Train Loss')\n",
    "ax2.plot(epoch_list, history.history['val_loss'], label='Validation Loss')\n",
    "ax2.set_xticks(np.arange(0, EPOCHS+1, 1))\n",
    "ax2.set_ylabel('Loss Value')\n",
    "ax2.set_xlabel('Epoch #')\n",
    "ax2.set_title('Loss')\n",
    "l2 = ax2.legend(loc=\"best\")"
   ]
  },
  {
   "cell_type": "code",
   "execution_count": 54,
   "id": "f155b640",
   "metadata": {},
   "outputs": [],
   "source": [
    "model.save('cm_train_model.h5')"
   ]
  },
  {
   "cell_type": "code",
   "execution_count": 72,
   "id": "acdec8f0",
   "metadata": {},
   "outputs": [],
   "source": [
    "test_dir = 'hackaton_dataset'\n",
    "TEST = [f for f in os.listdir(data_dir+'/test') if f.endswith('.jpg')]\n",
    "\n",
    "X_test = []\n",
    "Y_test = []\n",
    "\n",
    "for img in TEST:\n",
    "    if \"Ab01\" in img:\n",
    "        X_test.append(img_to_array(load_img(data_dir+'/test/'+img)).flatten() / 255.0)\n",
    "        Y_test.append(1)\n",
    "    elif \"Ab04\" in img:\n",
    "        X_test.append(img_to_array(load_img(data_dir+'/test/'+img)).flatten() / 255.0)\n",
    "        Y_test.append(2)\n",
    "    elif \"Ch02\" in img:\n",
    "        X_test.append(img_to_array(load_img(data_dir+'/test/'+img)).flatten() / 255.0)\n",
    "        Y_test.append(3)\n",
    "    elif \"Ch05\" in img:\n",
    "        X_test.append(img_to_array(load_img(data_dir+'/test/'+img)).flatten() / 255.0)\n",
    "        Y_test.append(4)\n",
    "    elif \"Mu02\" in img:\n",
    "        X_test.append(img_to_array(load_img(data_dir+'/test/'+img)).flatten() / 255.0)\n",
    "        Y_test.append(5)\n",
    "    elif \"Mu04\" in img:\n",
    "        X_test.append(img_to_array(load_img(data_dir+'/test/'+img)).flatten() / 255.0)\n",
    "        Y_test.append(6)\n",
    "X_test = np.array(X_test)\n",
    "X_test = X_test.reshape(-1, 128, 128, 3)"
   ]
  },
  {
   "cell_type": "code",
   "execution_count": 74,
   "id": "c45c3251",
   "metadata": {},
   "outputs": [
    {
     "name": "stdout",
     "output_type": "stream",
     "text": [
      "[[7.9280608e-06 9.9860746e-01 2.4068422e-04 5.7859594e-05 1.9837095e-04\n",
      "  8.4184721e-05 8.0363383e-04]]\n",
      "[[0. 1. 0. 0. 0. 0. 0.]]\n"
     ]
    }
   ],
   "source": [
    "confidences = model.predict(X_test)\n",
    "labels = np.round(confidences)\n",
    "\n",
    "print(confidences)\n",
    "print(labels)"
   ]
  },
  {
   "cell_type": "code",
   "execution_count": null,
   "id": "4688abb3",
   "metadata": {},
   "outputs": [],
   "source": []
  },
  {
   "cell_type": "code",
   "execution_count": null,
   "id": "54c9d3e2",
   "metadata": {},
   "outputs": [],
   "source": []
  },
  {
   "cell_type": "code",
   "execution_count": null,
   "id": "20662695",
   "metadata": {},
   "outputs": [],
   "source": []
  }
 ],
 "metadata": {
  "kernelspec": {
   "display_name": "Python 3 (ipykernel)",
   "language": "python",
   "name": "python3"
  },
  "language_info": {
   "codemirror_mode": {
    "name": "ipython",
    "version": 3
   },
   "file_extension": ".py",
   "mimetype": "text/x-python",
   "name": "python",
   "nbconvert_exporter": "python",
   "pygments_lexer": "ipython3",
   "version": "3.9.7"
  }
 },
 "nbformat": 4,
 "nbformat_minor": 5
}
