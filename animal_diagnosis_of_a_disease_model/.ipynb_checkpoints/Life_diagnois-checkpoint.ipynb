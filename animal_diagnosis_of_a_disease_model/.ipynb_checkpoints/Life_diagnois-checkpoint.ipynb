{
 "cells": [
  {
   "cell_type": "code",
   "execution_count": 47,
   "id": "bb074626",
   "metadata": {},
   "outputs": [
    {
     "name": "stdout",
     "output_type": "stream",
     "text": [
      "[0.7176471  0.7176471  0.7176471  ... 0.02352941 0.02352941 0.02352941]\n",
      "[0.67058825 0.67058825 0.67058825 ... 0.         0.         0.        ]\n",
      "[0.04705882 0.04705882 0.04705882 ... 0.02352941 0.02352941 0.02352941]\n",
      "19.43667853860294\n",
      "AbNormal !, 병이 진행되었습니다. 치료를 받으셔야합니다.\n"
     ]
    }
   ],
   "source": [
    "import numpy as np, cv2\n",
    "import os\n",
    "from tensorflow.keras.preprocessing.image import ImageDataGenerator, img_to_array, load_img\n",
    "\n",
    "#--① 연산에 필요한 영상을 읽고 그레이스케일로 변환\n",
    "data_dir = 'life_diagnois'\n",
    "diff_list = [f for f in os.listdir(data_dir+'/frame diff') if f.endswith('.jpg')]\n",
    "for img in diff_list:\n",
    "    if \"ABN\" in img:\n",
    "        img1 = (img_to_array(load_img(data_dir+'/frame diff/'+img)).flatten() / 255.0)\n",
    "    elif \"NOR\" in img:\n",
    "        img2 = (img_to_array(load_img(data_dir+'/frame diff/'+img)).flatten() / 255.0)\n",
    "\n",
    "print(img1)\n",
    "print(img2)\n",
    "print(img1-img2)\n",
    "# #--② 두 영상의 절대값 차 연산\n",
    "diff = cv2.absdiff(img1, img2)\n",
    "score = np.sum(diff)/255\n",
    "print(score)\n",
    "\n",
    "if 2.9 < score < 50:\n",
    "    print(\"AbNormal !, 병이 진행되었습니다. 치료를 받으셔야합니다.\")\n",
    "else :\n",
    "    print(\"차차 병원에 가보시는게 좋을 것 같습니다.\")"
   ]
  }
 ],
 "metadata": {
  "kernelspec": {
   "display_name": "Python 3 (ipykernel)",
   "language": "python",
   "name": "python3"
  },
  "language_info": {
   "codemirror_mode": {
    "name": "ipython",
    "version": 3
   },
   "file_extension": ".py",
   "mimetype": "text/x-python",
   "name": "python",
   "nbconvert_exporter": "python",
   "pygments_lexer": "ipython3",
   "version": "3.9.7"
  }
 },
 "nbformat": 4,
 "nbformat_minor": 5
}
