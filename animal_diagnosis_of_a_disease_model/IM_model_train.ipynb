{
 "cells": [
  {
   "cell_type": "code",
   "execution_count": 1,
   "id": "6a2d2121",
   "metadata": {},
   "outputs": [],
   "source": [
    "import os\n",
    "import cv2\n",
    "import json\n",
    "import tensorflow as tf\n",
    "import numpy as np\n",
    "import matplotlib.pyplot as plt\n",
    "import seaborn as sn\n",
    "import pandas as pd\n",
    "from tensorflow.keras.preprocessing.image import ImageDataGenerator, img_to_array, load_img\n",
    "from tensorflow.keras.utils import to_categorical\n",
    "from sklearn.model_selection import train_test_split\n",
    "from sklearn.metrics import confusion_matrix"
   ]
  },
  {
   "cell_type": "code",
   "execution_count": 2,
   "id": "5599ff7b",
   "metadata": {},
   "outputs": [],
   "source": [
    "input_shape = (128, 128, 3)"
   ]
  },
  {
   "cell_type": "code",
   "execution_count": 3,
   "id": "6fd8271e",
   "metadata": {},
   "outputs": [],
   "source": [
    "data_dir = 'hackaton_dataset'\n",
    "IM_ABN = [f for f in os.listdir(data_dir+'/IM_ABN') if f.endswith('.jpg')]\n",
    "IM_NOR = [f for f in os.listdir(data_dir+'/IM_NOR') if f.endswith('.jpg')]"
   ]
  },
  {
   "cell_type": "code",
   "execution_count": 4,
   "id": "bf9f1515",
   "metadata": {},
   "outputs": [],
   "source": [
    "X = []\n",
    "Y = []\n",
    "\n",
    "for img in IM_ABN:\n",
    "    if \"Ab01\" in img:\n",
    "        X.append(img_to_array(load_img(data_dir+'/IM_ABN/'+img)).flatten() / 255.0)\n",
    "        Y.append(1)\n",
    "    elif \"Ab04\" in img:\n",
    "        X.append(img_to_array(load_img(data_dir+'/IM_ABN/'+img)).flatten() / 255.0)\n",
    "        Y.append(2)\n",
    "    elif \"Ch02\" in img:\n",
    "        X.append(img_to_array(load_img(data_dir+'/IM_ABN/'+img)).flatten() / 255.0)\n",
    "        Y.append(3)\n",
    "    elif \"Ch05\" in img:\n",
    "        X.append(img_to_array(load_img(data_dir+'/IM_ABN/'+img)).flatten() / 255.0)\n",
    "        Y.append(4)\n",
    "    elif \"Mu02\" in img:\n",
    "        X.append(img_to_array(load_img(data_dir+'/IM_ABN/'+img)).flatten() / 255.0)\n",
    "        Y.append(5)\n",
    "    elif \"Mu04\" in img:\n",
    "        X.append(img_to_array(load_img(data_dir+'/IM_ABN/'+img)).flatten() / 255.0)\n",
    "        Y.append(6)\n",
    "for img in IM_NOR:\n",
    "    X.append(img_to_array(load_img(data_dir+'/IM_NOR/'+img)).flatten() / 255.0)\n",
    "    Y.append(0)"
   ]
  },
  {
   "cell_type": "code",
   "execution_count": 5,
   "id": "442620f1",
   "metadata": {},
   "outputs": [
    {
     "name": "stdout",
     "output_type": "stream",
     "text": [
      "(6760, 128, 128, 3)\n",
      "(6760, 7)\n"
     ]
    }
   ],
   "source": [
    "Y_val_org = Y\n",
    "\n",
    "#Normalization\n",
    "X = np.array(X)\n",
    "Y = tf.keras.utils.to_categorical(Y)\n",
    "\n",
    "#Reshape\n",
    "X = X.reshape(-1, 128, 128, 3)\n",
    "\n",
    "#Train-Test split\n",
    "X_train, X_val, Y_train, Y_val = train_test_split(X, Y, test_size = 0.2, random_state=5)\n",
    "print(np.shape(X))\n",
    "print(np.shape(Y))"
   ]
  },
  {
   "cell_type": "code",
   "execution_count": 6,
   "id": "32c9881d",
   "metadata": {},
   "outputs": [
    {
     "name": "stdout",
     "output_type": "stream",
     "text": [
      "Model: \"sequential\"\n",
      "_________________________________________________________________\n",
      " Layer (type)                Output Shape              Param #   \n",
      "=================================================================\n",
      " inception_resnet_v2 (Functi  (None, 2, 2, 1536)       54336736  \n",
      " onal)                                                           \n",
      "                                                                 \n",
      " global_average_pooling2d (G  (None, 1536)             0         \n",
      " lobalAveragePooling2D)                                          \n",
      "                                                                 \n",
      " dense (Dense)               (None, 7)                 10759     \n",
      "                                                                 \n",
      "=================================================================\n",
      "Total params: 54,347,495\n",
      "Trainable params: 54,286,951\n",
      "Non-trainable params: 60,544\n",
      "_________________________________________________________________\n"
     ]
    }
   ],
   "source": [
    "from tensorflow.keras.applications import InceptionResNetV2\n",
    "from tensorflow.keras.layers import Conv2D\n",
    "from tensorflow.keras.layers import MaxPooling2D\n",
    "from tensorflow.keras.layers import Flatten\n",
    "from tensorflow.keras.layers import Dense\n",
    "from tensorflow.keras.layers import Dropout\n",
    "from tensorflow.keras.layers import InputLayer\n",
    "from tensorflow.keras.layers import GlobalAveragePooling2D\n",
    "from tensorflow.keras.models import Sequential\n",
    "from tensorflow.keras.models import Model\n",
    "from tensorflow.keras import optimizers\n",
    "from tensorflow.keras.callbacks import ReduceLROnPlateau, EarlyStopping\n",
    "\n",
    "googleNet_model = InceptionResNetV2(include_top=False, weights='imagenet', input_shape=input_shape)\n",
    "googleNet_model.trainable = True\n",
    "model = Sequential()\n",
    "model.add(googleNet_model)\n",
    "model.add(GlobalAveragePooling2D())\n",
    "model.add(Dense(units=7, activation='softmax'))\n",
    "model.compile(loss='cross_crossentropy',\n",
    "              optimizer=optimizers.Adam(learning_rate=1e-5, beta_1=0.9, beta_2=0.999, epsilon=None, decay=0.0, amsgrad=False),\n",
    "              metrics=['accuracy'])\n",
    "model.summary()"
   ]
  },
  {
   "cell_type": "code",
   "execution_count": 7,
   "id": "f4c04caa",
   "metadata": {},
   "outputs": [
    {
     "name": "stdout",
     "output_type": "stream",
     "text": [
      "Epoch 1/20\n",
      "55/55 [==============================] - 3392s 59s/step - loss: 0.5911 - accuracy: 0.3112 - val_loss: 0.4863 - val_accuracy: 0.4749\n",
      "Epoch 2/20\n",
      "55/55 [==============================] - 3329s 61s/step - loss: 0.4549 - accuracy: 0.6853 - val_loss: 0.5297 - val_accuracy: 0.4364\n",
      "Epoch 3/20\n",
      "55/55 [==============================] - 3028s 55s/step - loss: 0.3338 - accuracy: 0.8284 - val_loss: 0.4568 - val_accuracy: 0.6664\n",
      "Epoch 4/20\n",
      "55/55 [==============================] - 3287s 60s/step - loss: 0.2382 - accuracy: 0.8471 - val_loss: 0.3308 - val_accuracy: 0.8136\n",
      "Epoch 5/20\n",
      "55/55 [==============================] - 3085s 56s/step - loss: 0.1768 - accuracy: 0.8504 - val_loss: 0.2376 - val_accuracy: 0.8328\n",
      "Epoch 6/20\n",
      "55/55 [==============================] - 3162s 57s/step - loss: 0.1453 - accuracy: 0.8548 - val_loss: 0.1987 - val_accuracy: 0.8373\n",
      "Epoch 7/20\n",
      "55/55 [==============================] - 3197s 58s/step - loss: 0.1260 - accuracy: 0.8628 - val_loss: 0.2214 - val_accuracy: 0.8432\n",
      "Epoch 8/20\n",
      "55/55 [==============================] - 3194s 58s/step - loss: 0.1111 - accuracy: 0.8804 - val_loss: 0.2237 - val_accuracy: 0.8469\n",
      "Epoch 9/20\n",
      "55/55 [==============================] - 3055s 55s/step - loss: 0.0970 - accuracy: 0.8952 - val_loss: 0.2628 - val_accuracy: 0.8484\n",
      "Epoch 10/20\n",
      "55/55 [==============================] - 3234s 59s/step - loss: 0.0859 - accuracy: 0.9146 - val_loss: 0.2730 - val_accuracy: 0.8521\n",
      "Epoch 11/20\n",
      "55/55 [==============================] - 3137s 57s/step - loss: 0.0764 - accuracy: 0.9262 - val_loss: 0.2059 - val_accuracy: 0.8521\n",
      "Epoch 12/20\n",
      "55/55 [==============================] - 3166s 58s/step - loss: 0.0645 - accuracy: 0.9432 - val_loss: 0.1935 - val_accuracy: 0.8587\n",
      "Epoch 13/20\n",
      "55/55 [==============================] - 3091s 56s/step - loss: 0.0591 - accuracy: 0.9467 - val_loss: 0.1582 - val_accuracy: 0.8587\n",
      "Epoch 14/20\n",
      "55/55 [==============================] - 3168s 58s/step - loss: 0.0558 - accuracy: 0.9488 - val_loss: 0.1731 - val_accuracy: 0.8624\n",
      "Epoch 15/20\n",
      "55/55 [==============================] - 2328s 42s/step - loss: 0.0517 - accuracy: 0.9503 - val_loss: 0.1755 - val_accuracy: 0.8595\n",
      "Epoch 16/20\n",
      "55/55 [==============================] - 2148s 39s/step - loss: 0.0479 - accuracy: 0.9565 - val_loss: 0.2035 - val_accuracy: 0.8639\n",
      "Epoch 17/20\n",
      "55/55 [==============================] - 2311s 42s/step - loss: 0.0455 - accuracy: 0.9569 - val_loss: 0.2032 - val_accuracy: 0.8617\n",
      "Epoch 18/20\n",
      "55/55 [==============================] - 2494s 45s/step - loss: 0.0415 - accuracy: 0.9623 - val_loss: 0.1782 - val_accuracy: 0.8654\n",
      "Epoch 19/20\n",
      "55/55 [==============================] - 2196s 40s/step - loss: 0.0398 - accuracy: 0.9647 - val_loss: 0.1598 - val_accuracy: 0.8676\n",
      "Epoch 20/20\n",
      "55/55 [==============================] - 2081s 38s/step - loss: 0.0394 - accuracy: 0.9617 - val_loss: 0.1515 - val_accuracy: 0.8646\n"
     ]
    }
   ],
   "source": [
    "#Currently not used\n",
    "early_stopping = EarlyStopping(monitor='val_loss',\n",
    "                               min_delta=0,\n",
    "                               patience=2,\n",
    "                               verbose=0, mode='auto')\n",
    "EPOCHS = 20\n",
    "BATCH_SIZE = 100\n",
    "history = model.fit(X_train, Y_train, batch_size = BATCH_SIZE, epochs = EPOCHS, validation_data = (X_val, Y_val), verbose = 1)"
   ]
  },
  {
   "cell_type": "code",
   "execution_count": 8,
   "id": "8ad40819",
   "metadata": {},
   "outputs": [],
   "source": [
    "model.save('im_train_model.h5')"
   ]
  },
  {
   "cell_type": "code",
   "execution_count": 9,
   "id": "ba74a198",
   "metadata": {},
   "outputs": [
    {
     "data": {
      "image/png": "[encoded data removed]",
      "text/plain": [
       "<Figure size 1440x288 with 2 Axes>"
      ]
     },
     "metadata": {
      "needs_background": "light"
     },
     "output_type": "display_data"
    }
   ],
   "source": [
    "f, (ax1, ax2) = plt.subplots(1, 2, figsize=(20, 4))\n",
    "t = f.suptitle('Pre-trained InceptionResNetV2 Transfer Learn with Fine-Tuning & Image Augmentation Performance ', fontsize=12)\n",
    "f.subplots_adjust(top=0.85, wspace=0.3)\n",
    "\n",
    "epoch_list = list(range(1,EPOCHS+1))\n",
    "ax1.plot(epoch_list, history.history['accuracy'], label='Train Accuracy')\n",
    "ax1.plot(epoch_list, history.history['val_accuracy'], label='Validation Accuracy')\n",
    "ax1.set_xticks(np.arange(0, EPOCHS+1, 1))\n",
    "ax1.set_ylabel('Accuracy Value')\n",
    "ax1.set_xlabel('Epoch #')\n",
    "ax1.set_title('Accuracy')\n",
    "l1 = ax1.legend(loc=\"best\")\n",
    "\n",
    "ax2.plot(epoch_list, history.history['loss'], label='Train Loss')\n",
    "ax2.plot(epoch_list, history.history['val_loss'], label='Validation Loss')\n",
    "ax2.set_xticks(np.arange(0, EPOCHS+1, 1))\n",
    "ax2.set_ylabel('Loss Value')\n",
    "ax2.set_xlabel('Epoch #')\n",
    "ax2.set_title('Loss')\n",
    "l2 = ax2.legend(loc=\"best\")"
   ]
  },
  {
   "cell_type": "code",
   "execution_count": null,
   "id": "813cfde3",
   "metadata": {},
   "outputs": [],
   "source": []
  },
  {
   "cell_type": "code",
   "execution_count": null,
   "id": "e98fb50b",
   "metadata": {},
   "outputs": [],
   "source": []
  },
  {
   "cell_type": "code",
   "execution_count": null,
   "id": "b9044b27",
   "metadata": {},
   "outputs": [],
   "source": []
  }
 ],
 "metadata": {
  "kernelspec": {
   "display_name": "Python 3 (ipykernel)",
   "language": "python",
   "name": "python3"
  },
  "language_info": {
   "codemirror_mode": {
    "name": "ipython",
    "version": 3
   },
   "file_extension": ".py",
   "mimetype": "text/x-python",
   "name": "python",
   "nbconvert_exporter": "python",
   "pygments_lexer": "ipython3",
   "version": "3.9.7"
  }
 },
 "nbformat": 4,
 "nbformat_minor": 5
}
